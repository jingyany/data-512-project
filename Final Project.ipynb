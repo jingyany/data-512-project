{
 "cells": [
  {
   "cell_type": "markdown",
   "metadata": {},
   "source": [
    "## Analyzing Developers on Stack Overflow"
   ]
  },
  {
   "cell_type": "markdown",
   "metadata": {},
   "source": [
    "## Introduction"
   ]
  },
  {
   "cell_type": "markdown",
   "metadata": {},
   "source": [
    "Stack Overflow is an online community for developers to ask questions, write answer, and search for answers of their programming problem. It’s a platform for developers to learn and share their knowledge with others. Developers can earn reputation and receive “badge” by writing helpful answer for other developers’ programming problems. It also provides a job section for developers to find their next opportunities, and for employers to list their openings of different developer roles.\n",
    "\n",
    "The Stack Overflow conducted annual developer survey since 2011. The purpose of this survey is to share information of technology and current state of industry with developers. It also helps Stack Overflow to educate their employers to get to know the developers about what they think and what they want.\n",
    "\n",
    "\n",
    "This project aims to analyze the gender problems of developers on Stack Overflow from multiple perspectives, by conducting quantitative analysis."
   ]
  },
  {
   "cell_type": "markdown",
   "metadata": {},
   "source": [
    "### Background/Related Work:\n"
   ]
  },
  {
   "cell_type": "markdown",
   "metadata": {},
   "source": [
    "The tech industry has gender diversity problem, which is not a secret. Men vastly outnumber women in developer jobs, where much of the power in the industry is located. Gender disparity in tech jobs is wide and deep. It exists at U.S., European and Asian companies. Female tech entrepreneurs also get far less venture capital than startups led by men.\n",
    "\n",
    "Although girls in high school outperform boys in math and science, boys are more likely to take the tests that lead to a college major in STEM subjects. One study showed women in college tended to steer clear of those science and engineering majors since they think they should be brilliant, smart enought to succeed in the tech field after graduate. Women also leave high-tech jobs at twice the rate of men, which forms a unique trend and environment on the culture of tech workplaces.\n",
    "\n",
    "Stack Overflow, as the largest online community for developers, represents the current state of the developers worldwide from some circumstance. We can take a closer look at how women and men different in race, developer rols and education, by analyzing StackOverflow Developer Survey data. "
   ]
  },
  {
   "cell_type": "markdown",
   "metadata": {},
   "source": [
    "## Methods"
   ]
  },
  {
   "cell_type": "markdown",
   "metadata": {},
   "source": [
    "The research questions to ask are listed below:\n",
    "\n",
    "- What is the distribution of StackOverflow developers by gender?\n",
    "- What is the difference of developers' Race between men and women?\n",
    "- What is the difference of developers' roles between men and women?\n",
    "- What is the difference of developers' activities on StackOverflow between men and women?\n",
    "\n",
    "All research questions above are to compare the difference between male and female developers on StackOverflow. Using a bar chart is the most straightforward way to compare the differences."
   ]
  },
  {
   "cell_type": "code",
   "execution_count": 4,
   "metadata": {},
   "outputs": [],
   "source": [
    "import pandas as pd\n",
    "import numpy as np\n",
    "import matplotlib.pyplot as plt\n",
    "%matplotlib inline\n",
    "import seaborn as sns"
   ]
  },
  {
   "cell_type": "markdown",
   "metadata": {},
   "source": [
    "### Get the Data"
   ]
  },
  {
   "cell_type": "markdown",
   "metadata": {},
   "source": [
    "The Stack Overflow Developer Survey, 2017 data was downloaded from Kaggle website as .csv file."
   ]
  },
  {
   "cell_type": "code",
   "execution_count": 5,
   "metadata": {},
   "outputs": [
    {
     "data": {
      "text/html": [
       "<div>\n",
       "<table border=\"1\" class=\"dataframe\">\n",
       "  <thead>\n",
       "    <tr style=\"text-align: right;\">\n",
       "      <th></th>\n",
       "      <th>Respondent</th>\n",
       "      <th>Professional</th>\n",
       "      <th>ProgramHobby</th>\n",
       "      <th>Country</th>\n",
       "      <th>University</th>\n",
       "      <th>EmploymentStatus</th>\n",
       "      <th>FormalEducation</th>\n",
       "      <th>MajorUndergrad</th>\n",
       "      <th>HomeRemote</th>\n",
       "      <th>CompanySize</th>\n",
       "      <th>...</th>\n",
       "      <th>StackOverflowMakeMoney</th>\n",
       "      <th>Gender</th>\n",
       "      <th>HighestEducationParents</th>\n",
       "      <th>Race</th>\n",
       "      <th>SurveyLong</th>\n",
       "      <th>QuestionsInteresting</th>\n",
       "      <th>QuestionsConfusing</th>\n",
       "      <th>InterestedAnswers</th>\n",
       "      <th>Salary</th>\n",
       "      <th>ExpectedSalary</th>\n",
       "    </tr>\n",
       "  </thead>\n",
       "  <tbody>\n",
       "    <tr>\n",
       "      <th>0</th>\n",
       "      <td>1</td>\n",
       "      <td>Student</td>\n",
       "      <td>Yes, both</td>\n",
       "      <td>United States</td>\n",
       "      <td>No</td>\n",
       "      <td>Not employed, and not looking for work</td>\n",
       "      <td>Secondary school</td>\n",
       "      <td>NaN</td>\n",
       "      <td>NaN</td>\n",
       "      <td>NaN</td>\n",
       "      <td>...</td>\n",
       "      <td>Strongly disagree</td>\n",
       "      <td>Male</td>\n",
       "      <td>High school</td>\n",
       "      <td>White or of European descent</td>\n",
       "      <td>Strongly disagree</td>\n",
       "      <td>Strongly agree</td>\n",
       "      <td>Disagree</td>\n",
       "      <td>Strongly agree</td>\n",
       "      <td>NaN</td>\n",
       "      <td>NaN</td>\n",
       "    </tr>\n",
       "    <tr>\n",
       "      <th>1</th>\n",
       "      <td>2</td>\n",
       "      <td>Student</td>\n",
       "      <td>Yes, both</td>\n",
       "      <td>United Kingdom</td>\n",
       "      <td>Yes, full-time</td>\n",
       "      <td>Employed part-time</td>\n",
       "      <td>Some college/university study without earning ...</td>\n",
       "      <td>Computer science or software engineering</td>\n",
       "      <td>More than half, but not all, the time</td>\n",
       "      <td>20 to 99 employees</td>\n",
       "      <td>...</td>\n",
       "      <td>Strongly disagree</td>\n",
       "      <td>Male</td>\n",
       "      <td>A master's degree</td>\n",
       "      <td>White or of European descent</td>\n",
       "      <td>Somewhat agree</td>\n",
       "      <td>Somewhat agree</td>\n",
       "      <td>Disagree</td>\n",
       "      <td>Strongly agree</td>\n",
       "      <td>NaN</td>\n",
       "      <td>37500.0</td>\n",
       "    </tr>\n",
       "    <tr>\n",
       "      <th>2</th>\n",
       "      <td>3</td>\n",
       "      <td>Professional developer</td>\n",
       "      <td>Yes, both</td>\n",
       "      <td>United Kingdom</td>\n",
       "      <td>No</td>\n",
       "      <td>Employed full-time</td>\n",
       "      <td>Bachelor's degree</td>\n",
       "      <td>Computer science or software engineering</td>\n",
       "      <td>Less than half the time, but at least one day ...</td>\n",
       "      <td>10,000 or more employees</td>\n",
       "      <td>...</td>\n",
       "      <td>Disagree</td>\n",
       "      <td>Male</td>\n",
       "      <td>A professional degree</td>\n",
       "      <td>White or of European descent</td>\n",
       "      <td>Somewhat agree</td>\n",
       "      <td>Agree</td>\n",
       "      <td>Disagree</td>\n",
       "      <td>Agree</td>\n",
       "      <td>113750.0</td>\n",
       "      <td>NaN</td>\n",
       "    </tr>\n",
       "    <tr>\n",
       "      <th>3</th>\n",
       "      <td>4</td>\n",
       "      <td>Professional non-developer who sometimes write...</td>\n",
       "      <td>Yes, both</td>\n",
       "      <td>United States</td>\n",
       "      <td>No</td>\n",
       "      <td>Employed full-time</td>\n",
       "      <td>Doctoral degree</td>\n",
       "      <td>A non-computer-focused engineering discipline</td>\n",
       "      <td>Less than half the time, but at least one day ...</td>\n",
       "      <td>10,000 or more employees</td>\n",
       "      <td>...</td>\n",
       "      <td>Disagree</td>\n",
       "      <td>Male</td>\n",
       "      <td>A doctoral degree</td>\n",
       "      <td>White or of European descent</td>\n",
       "      <td>Agree</td>\n",
       "      <td>Agree</td>\n",
       "      <td>Somewhat agree</td>\n",
       "      <td>Strongly agree</td>\n",
       "      <td>NaN</td>\n",
       "      <td>NaN</td>\n",
       "    </tr>\n",
       "    <tr>\n",
       "      <th>4</th>\n",
       "      <td>5</td>\n",
       "      <td>Professional developer</td>\n",
       "      <td>Yes, I program as a hobby</td>\n",
       "      <td>Switzerland</td>\n",
       "      <td>No</td>\n",
       "      <td>Employed full-time</td>\n",
       "      <td>Master's degree</td>\n",
       "      <td>Computer science or software engineering</td>\n",
       "      <td>Never</td>\n",
       "      <td>10 to 19 employees</td>\n",
       "      <td>...</td>\n",
       "      <td>NaN</td>\n",
       "      <td>NaN</td>\n",
       "      <td>NaN</td>\n",
       "      <td>NaN</td>\n",
       "      <td>NaN</td>\n",
       "      <td>NaN</td>\n",
       "      <td>NaN</td>\n",
       "      <td>NaN</td>\n",
       "      <td>NaN</td>\n",
       "      <td>NaN</td>\n",
       "    </tr>\n",
       "  </tbody>\n",
       "</table>\n",
       "<p>5 rows × 154 columns</p>\n",
       "</div>"
      ],
      "text/plain": [
       "   Respondent                                       Professional  \\\n",
       "0           1                                            Student   \n",
       "1           2                                            Student   \n",
       "2           3                             Professional developer   \n",
       "3           4  Professional non-developer who sometimes write...   \n",
       "4           5                             Professional developer   \n",
       "\n",
       "                ProgramHobby         Country      University  \\\n",
       "0                  Yes, both   United States              No   \n",
       "1                  Yes, both  United Kingdom  Yes, full-time   \n",
       "2                  Yes, both  United Kingdom              No   \n",
       "3                  Yes, both   United States              No   \n",
       "4  Yes, I program as a hobby     Switzerland              No   \n",
       "\n",
       "                         EmploymentStatus  \\\n",
       "0  Not employed, and not looking for work   \n",
       "1                      Employed part-time   \n",
       "2                      Employed full-time   \n",
       "3                      Employed full-time   \n",
       "4                      Employed full-time   \n",
       "\n",
       "                                     FormalEducation  \\\n",
       "0                                   Secondary school   \n",
       "1  Some college/university study without earning ...   \n",
       "2                                  Bachelor's degree   \n",
       "3                                    Doctoral degree   \n",
       "4                                    Master's degree   \n",
       "\n",
       "                                  MajorUndergrad  \\\n",
       "0                                            NaN   \n",
       "1       Computer science or software engineering   \n",
       "2       Computer science or software engineering   \n",
       "3  A non-computer-focused engineering discipline   \n",
       "4       Computer science or software engineering   \n",
       "\n",
       "                                          HomeRemote  \\\n",
       "0                                                NaN   \n",
       "1              More than half, but not all, the time   \n",
       "2  Less than half the time, but at least one day ...   \n",
       "3  Less than half the time, but at least one day ...   \n",
       "4                                              Never   \n",
       "\n",
       "                CompanySize       ...       StackOverflowMakeMoney Gender  \\\n",
       "0                       NaN       ...            Strongly disagree   Male   \n",
       "1        20 to 99 employees       ...            Strongly disagree   Male   \n",
       "2  10,000 or more employees       ...                     Disagree   Male   \n",
       "3  10,000 or more employees       ...                     Disagree   Male   \n",
       "4        10 to 19 employees       ...                          NaN    NaN   \n",
       "\n",
       "  HighestEducationParents                          Race         SurveyLong  \\\n",
       "0             High school  White or of European descent  Strongly disagree   \n",
       "1       A master's degree  White or of European descent     Somewhat agree   \n",
       "2   A professional degree  White or of European descent     Somewhat agree   \n",
       "3       A doctoral degree  White or of European descent              Agree   \n",
       "4                     NaN                           NaN                NaN   \n",
       "\n",
       "  QuestionsInteresting QuestionsConfusing InterestedAnswers    Salary  \\\n",
       "0       Strongly agree           Disagree    Strongly agree       NaN   \n",
       "1       Somewhat agree           Disagree    Strongly agree       NaN   \n",
       "2                Agree           Disagree             Agree  113750.0   \n",
       "3                Agree     Somewhat agree    Strongly agree       NaN   \n",
       "4                  NaN                NaN               NaN       NaN   \n",
       "\n",
       "   ExpectedSalary  \n",
       "0             NaN  \n",
       "1         37500.0  \n",
       "2             NaN  \n",
       "3             NaN  \n",
       "4             NaN  \n",
       "\n",
       "[5 rows x 154 columns]"
      ]
     },
     "execution_count": 5,
     "metadata": {},
     "output_type": "execute_result"
    }
   ],
   "source": [
    "# Read .csv file with pandas dataframe\n",
    "df = pd.read_csv('survey_results_public.csv')\n",
    "df.head()"
   ]
  },
  {
   "cell_type": "code",
   "execution_count": 6,
   "metadata": {},
   "outputs": [
    {
     "data": {
      "text/plain": [
       "(51392, 154)"
      ]
     },
     "execution_count": 6,
     "metadata": {},
     "output_type": "execute_result"
    }
   ],
   "source": [
    "# Get the dimension of the data\n",
    "df.shape"
   ]
  },
  {
   "cell_type": "markdown",
   "metadata": {},
   "source": [
    "### Data Cleaning"
   ]
  },
  {
   "cell_type": "markdown",
   "metadata": {},
   "source": [
    "Respondents suppossed to only choose one option for somme survey questions, like gender, race, and etc. For answers including multiple options are considered as invalid answers. We will delete those answers and not include them into the analysis"
   ]
  },
  {
   "cell_type": "code",
   "execution_count": 11,
   "metadata": {},
   "outputs": [
    {
     "data": {
      "text/plain": [
       "Male                     31589\n",
       "Female                    2600\n",
       "Other                      225\n",
       "Gender non-conforming      160\n",
       "Transgender                 55\n",
       "Name: Gender, dtype: int64"
      ]
     },
     "execution_count": 11,
     "metadata": {},
     "output_type": "execute_result"
    }
   ],
   "source": [
    "# Delet invalid rows under gender, only keep 5 categories under gender, male, female, other, gender non-conforming, transgender\n",
    "df['Gender'].value_counts()\n",
    "gender_list = ['Male', 'Female', 'Other', 'Gender non-conforming', 'Transgender']\n",
    "df_gender = df[df.Gender.isin(gender_list)]\n",
    "df_gender['Gender'].value_counts()"
   ]
  },
  {
   "cell_type": "code",
   "execution_count": 12,
   "metadata": {},
   "outputs": [
    {
     "data": {
      "text/plain": [
       "White or of European descent    23048\n",
       "South Asian                      2628\n",
       "Hispanic or Latino/Latina        1274\n",
       "East Asian                       1262\n",
       "Middle Eastern                    890\n",
       "I prefer not to say               741\n",
       "Black or of African descent       638\n",
       "I don’t know                      501\n",
       "Name: Race, dtype: int64"
      ]
     },
     "execution_count": 12,
     "metadata": {},
     "output_type": "execute_result"
    }
   ],
   "source": [
    "# Delet invalid rows under race, only keep 8 categories under rance, \"White or of European descent\",\"South Asian\", \n",
    "#\"Hispanic or Latino/Latina\", \"East Asian\", \"Middle Eastern\", \"I prefer not to say\", \"Black or of African descent\",\n",
    "#\"I don’t know\"\n",
    "df['Race'].value_counts()\n",
    "race_list = ['White or of European descent', 'South Asian', 'Hispanic or Latino/Latina', 'East Asian', \n",
    "             'Middle Eastern', 'I prefer not to say', 'Black or of African descent', 'I don’t know']\n",
    "df_gender = df_gender[df_gender.Race.isin(race_list)]\n",
    "df_gender['Race'].value_counts()"
   ]
  },
  {
   "cell_type": "code",
   "execution_count": 44,
   "metadata": {},
   "outputs": [
    {
     "data": {
      "text/plain": [
       "Web developer                                            6728\n",
       "Desktop applications developer                            949\n",
       "Mobile developer                                          898\n",
       "Embedded applications/devices developer                   412\n",
       "Developer with a statistics or mathematics background     285\n",
       "Data scientist                                            119\n",
       "DevOps specialist                                         109\n",
       "Quality assurance engineer                                 50\n",
       "Database administrator                                     35\n",
       "Machine learning specialist                                21\n",
       "Systems administrator                                      11\n",
       "Graphic designer                                            1\n",
       "Name: DeveloperType, dtype: int64"
      ]
     },
     "execution_count": 44,
     "metadata": {},
     "output_type": "execute_result"
    }
   ],
   "source": [
    "# We only include in some main types of developers and delete the rest of the developer types\n",
    "alldev_list = ['Web developer', 'Desktop applications developer', 'Mobile developer', 'DevOps specialist', \n",
    "               'Embedded applications/devices developer', 'Database administrator', 'Developer with a statistics or mathematics background',\n",
    "              'Systems administrator', 'Data scientist', 'Graphic designer', 'Quality assurance engineer', 'Machine learning specialist',\n",
    "            ]\n",
    "df_gender = df_gender[df_gender.DeveloperType.isin(alldev_list)]\n",
    "df_gender['DeveloperType'].value_counts()"
   ]
  },
  {
   "cell_type": "markdown",
   "metadata": {},
   "source": [
    "### What is the distribution of StackOverflow developers by gender?"
   ]
  },
  {
   "cell_type": "code",
   "execution_count": 53,
   "metadata": {},
   "outputs": [
    {
     "data": {
      "text/html": [
       "<div>\n",
       "<table border=\"1\" class=\"dataframe\">\n",
       "  <thead>\n",
       "    <tr style=\"text-align: right;\">\n",
       "      <th></th>\n",
       "      <th>Gender</th>\n",
       "      <th>Percentage</th>\n",
       "    </tr>\n",
       "  </thead>\n",
       "  <tbody>\n",
       "    <tr>\n",
       "      <th>Male</th>\n",
       "      <td>8697</td>\n",
       "      <td>0.904242</td>\n",
       "    </tr>\n",
       "    <tr>\n",
       "      <th>Female</th>\n",
       "      <td>849</td>\n",
       "      <td>0.088272</td>\n",
       "    </tr>\n",
       "    <tr>\n",
       "      <th>Other</th>\n",
       "      <td>34</td>\n",
       "      <td>0.003535</td>\n",
       "    </tr>\n",
       "    <tr>\n",
       "      <th>Gender non-conforming</th>\n",
       "      <td>27</td>\n",
       "      <td>0.002807</td>\n",
       "    </tr>\n",
       "    <tr>\n",
       "      <th>Transgender</th>\n",
       "      <td>11</td>\n",
       "      <td>0.001144</td>\n",
       "    </tr>\n",
       "  </tbody>\n",
       "</table>\n",
       "</div>"
      ],
      "text/plain": [
       "                       Gender  Percentage\n",
       "Male                     8697    0.904242\n",
       "Female                    849    0.088272\n",
       "Other                      34    0.003535\n",
       "Gender non-conforming      27    0.002807\n",
       "Transgender                11    0.001144"
      ]
     },
     "execution_count": 53,
     "metadata": {},
     "output_type": "execute_result"
    }
   ],
   "source": [
    "#Create a new data frame with total number and ratio of male developers, female developers, and etc.\n",
    "df_gender['Gender'].value_counts()\n",
    "df_gd = df_gender['Gender'].value_counts().to_frame()\n",
    "df_gd['Percentage'] = df_gd['Gender']/np.sum(df_gd['Gender'])\n",
    "df_gd"
   ]
  },
  {
   "cell_type": "code",
   "execution_count": 56,
   "metadata": {},
   "outputs": [
    {
     "data": {
      "text/plain": [
       "(array([0, 1, 2, 3, 4]), <a list of 5 Text xticklabel objects>)"
      ]
     },
     "execution_count": 56,
     "metadata": {},
     "output_type": "execute_result"
    },
    {
     "data": {
      "image/png": "[encoded data removed]",
      "text/plain": [
       "<matplotlib.figure.Figure at 0x7f0247f60b38>"
      ]
     },
     "metadata": {},
     "output_type": "display_data"
    }
   ],
   "source": [
    "# Create figure for gender distribution of StackOverflow developers\n",
    "df_gender['Gender'].value_counts().plot(kind='bar')\n",
    "plt.suptitle('Gender Distribution of Stack Overflow Developers', fontsize=18)\n",
    "plt.xticks(rotation=25)"
   ]
  },
  {
   "cell_type": "markdown",
   "metadata": {},
   "source": [
    "From the table and the figure above, the percentage of male developers is 90.42%, which is greatly higher than the percentage of female developers, 8.8%. The male developers represent the vast majority of contributores on StackOverflow. "
   ]
  },
  {
   "cell_type": "markdown",
   "metadata": {},
   "source": [
    "### What is the difference between developers' Race in men and women?"
   ]
  },
  {
   "cell_type": "code",
   "execution_count": 57,
   "metadata": {},
   "outputs": [
    {
     "data": {
      "text/html": [
       "<div>\n",
       "<table border=\"1\" class=\"dataframe\">\n",
       "  <thead>\n",
       "    <tr style=\"text-align: right;\">\n",
       "      <th></th>\n",
       "      <th>Female</th>\n",
       "      <th>Male</th>\n",
       "    </tr>\n",
       "  </thead>\n",
       "  <tbody>\n",
       "    <tr>\n",
       "      <th>Black or of African descent</th>\n",
       "      <td>20</td>\n",
       "      <td>130</td>\n",
       "    </tr>\n",
       "    <tr>\n",
       "      <th>East Asian</th>\n",
       "      <td>61</td>\n",
       "      <td>323</td>\n",
       "    </tr>\n",
       "    <tr>\n",
       "      <th>Hispanic or Latino/Latina</th>\n",
       "      <td>32</td>\n",
       "      <td>346</td>\n",
       "    </tr>\n",
       "    <tr>\n",
       "      <th>I don’t know</th>\n",
       "      <td>9</td>\n",
       "      <td>116</td>\n",
       "    </tr>\n",
       "    <tr>\n",
       "      <th>I prefer not to say</th>\n",
       "      <td>18</td>\n",
       "      <td>169</td>\n",
       "    </tr>\n",
       "    <tr>\n",
       "      <th>Middle Eastern</th>\n",
       "      <td>20</td>\n",
       "      <td>214</td>\n",
       "    </tr>\n",
       "    <tr>\n",
       "      <th>South Asian</th>\n",
       "      <td>85</td>\n",
       "      <td>811</td>\n",
       "    </tr>\n",
       "    <tr>\n",
       "      <th>White or of European descent</th>\n",
       "      <td>604</td>\n",
       "      <td>6588</td>\n",
       "    </tr>\n",
       "  </tbody>\n",
       "</table>\n",
       "</div>"
      ],
      "text/plain": [
       "                              Female  Male\n",
       "Black or of African descent       20   130\n",
       "East Asian                        61   323\n",
       "Hispanic or Latino/Latina         32   346\n",
       "I don’t know                       9   116\n",
       "I prefer not to say               18   169\n",
       "Middle Eastern                    20   214\n",
       "South Asian                       85   811\n",
       "White or of European descent     604  6588"
      ]
     },
     "execution_count": 57,
     "metadata": {},
     "output_type": "execute_result"
    }
   ],
   "source": [
    "#Create dataframes that contain male and female seperately\n",
    "df_m = df_gender.loc[df_gender['Gender'] == 'Male']\n",
    "df_f = df_gender.loc[df_gender['Gender'] == 'Female']\n",
    "\n",
    "#Select “Race” columns from different dataframes and create a new dataframe\n",
    "df_race_f = df_f['Race'].value_counts().to_frame()\n",
    "df_race_m = df_m['Race'].value_counts().to_frame()\n",
    "df_gender_race = pd.DataFrame({'Male': df_race_m['Race'], 'Female': df_race_f['Race']})\n",
    "df_gender_race"
   ]
  },
  {
   "cell_type": "code",
   "execution_count": 30,
   "metadata": {},
   "outputs": [
    {
     "data": {
      "text/html": [
       "<div>\n",
       "<table border=\"1\" class=\"dataframe\">\n",
       "  <thead>\n",
       "    <tr style=\"text-align: right;\">\n",
       "      <th></th>\n",
       "      <th>Female</th>\n",
       "      <th>Male</th>\n",
       "      <th>Female Ratio</th>\n",
       "      <th>Male Ratio</th>\n",
       "    </tr>\n",
       "  </thead>\n",
       "  <tbody>\n",
       "    <tr>\n",
       "      <th>Black or of African descent</th>\n",
       "      <td>20</td>\n",
       "      <td>130</td>\n",
       "      <td>0.002095</td>\n",
       "      <td>0.013618</td>\n",
       "    </tr>\n",
       "    <tr>\n",
       "      <th>East Asian</th>\n",
       "      <td>61</td>\n",
       "      <td>323</td>\n",
       "      <td>0.006390</td>\n",
       "      <td>0.033836</td>\n",
       "    </tr>\n",
       "    <tr>\n",
       "      <th>Hispanic or Latino/Latina</th>\n",
       "      <td>32</td>\n",
       "      <td>346</td>\n",
       "      <td>0.003352</td>\n",
       "      <td>0.036246</td>\n",
       "    </tr>\n",
       "    <tr>\n",
       "      <th>I don’t know</th>\n",
       "      <td>9</td>\n",
       "      <td>116</td>\n",
       "      <td>0.000943</td>\n",
       "      <td>0.012152</td>\n",
       "    </tr>\n",
       "    <tr>\n",
       "      <th>I prefer not to say</th>\n",
       "      <td>18</td>\n",
       "      <td>169</td>\n",
       "      <td>0.001886</td>\n",
       "      <td>0.017704</td>\n",
       "    </tr>\n",
       "    <tr>\n",
       "      <th>Middle Eastern</th>\n",
       "      <td>20</td>\n",
       "      <td>214</td>\n",
       "      <td>0.002095</td>\n",
       "      <td>0.022418</td>\n",
       "    </tr>\n",
       "    <tr>\n",
       "      <th>South Asian</th>\n",
       "      <td>85</td>\n",
       "      <td>811</td>\n",
       "      <td>0.008904</td>\n",
       "      <td>0.084957</td>\n",
       "    </tr>\n",
       "    <tr>\n",
       "      <th>White or of European descent</th>\n",
       "      <td>604</td>\n",
       "      <td>6588</td>\n",
       "      <td>0.063273</td>\n",
       "      <td>0.690132</td>\n",
       "    </tr>\n",
       "  </tbody>\n",
       "</table>\n",
       "</div>"
      ],
      "text/plain": [
       "                              Female  Male  Female Ratio  Male Ratio\n",
       "Black or of African descent       20   130      0.002095    0.013618\n",
       "East Asian                        61   323      0.006390    0.033836\n",
       "Hispanic or Latino/Latina         32   346      0.003352    0.036246\n",
       "I don’t know                       9   116      0.000943    0.012152\n",
       "I prefer not to say               18   169      0.001886    0.017704\n",
       "Middle Eastern                    20   214      0.002095    0.022418\n",
       "South Asian                       85   811      0.008904    0.084957\n",
       "White or of European descent     604  6588      0.063273    0.690132"
      ]
     },
     "execution_count": 30,
     "metadata": {},
     "output_type": "execute_result"
    }
   ],
   "source": [
    "# Add male ratio and female ratio to the dataframe\n",
    "df_gender_race['Female Ratio'] = df_gender_race['Female']/np.sum(df_gender_race['Female']+df_gender_race['Male'])\n",
    "df_gender_race['Male Ratio'] = df_gender_race['Male']/np.sum(df_gender_race['Female']+df_gender_race['Male'])\n",
    "df_gender_race"
   ]
  },
  {
   "cell_type": "code",
   "execution_count": 34,
   "metadata": {},
   "outputs": [
    {
     "data": {
      "image/png": "[encoded data removed]",
      "text/plain": [
       "<matplotlib.figure.Figure at 0x7f02558a8a90>"
      ]
     },
     "metadata": {},
     "output_type": "display_data"
    }
   ],
   "source": [
    "# Plot figure and add index as label\n",
    "df_figure = pd.DataFrame(df_gender_race,\n",
    "                 index=['Black or of African descent','East Asian', 'Hispanic or Latino/Latina',\n",
    "                                                'I don’t know', 'I prefer not to say','Middle Eastern',\n",
    "                       'South Asian', 'White or of European descent'],\n",
    "                 columns=pd.Index(['Female', 'Male'], \n",
    "                 name='Sex')).round(2)\n",
    "\n",
    "\n",
    "df_figure.plot(kind='bar',figsize=(12,8))\n",
    "\n",
    "ax = plt.gca()\n",
    "pos = []\n",
    "for bar in ax.patches:\n",
    "    pos.append(bar.get_x()+bar.get_width()/2.)\n",
    "\n",
    "\n",
    "ax.set_xticks(pos,minor=True)\n",
    "lab = []\n",
    "for i in range(len(pos)):\n",
    "    l = df.columns.values[i//len(df.index.values)]\n",
    "    lab.append(l)\n",
    "\n",
    "plt.setp(ax.get_xticklabels(), rotation=0)\n",
    "plt.title('Developer Race by Sex', fontsize=20)\n",
    "plt.xticks(rotation=25)\n",
    "\n",
    "plt.show()"
   ]
  },
  {
   "cell_type": "markdown",
   "metadata": {},
   "source": [
    "From the figure above, 75% of developers is \"White and European descent\". 6.3% developers are white women. East Asian and south asian can be considered as within the same category \"Asian\". Thus, 21% of developers is \"Asian\" and 1.5% is asian women. "
   ]
  },
  {
   "cell_type": "markdown",
   "metadata": {},
   "source": [
    "### What is the difference between developers' roles for men and women?"
   ]
  },
  {
   "cell_type": "code",
   "execution_count": 32,
   "metadata": {},
   "outputs": [
    {
     "data": {
      "text/html": [
       "<div>\n",
       "<table border=\"1\" class=\"dataframe\">\n",
       "  <thead>\n",
       "    <tr style=\"text-align: right;\">\n",
       "      <th></th>\n",
       "      <th>Female</th>\n",
       "      <th>Male</th>\n",
       "    </tr>\n",
       "  </thead>\n",
       "  <tbody>\n",
       "    <tr>\n",
       "      <th>Data scientist</th>\n",
       "      <td>14.0</td>\n",
       "      <td>104</td>\n",
       "    </tr>\n",
       "    <tr>\n",
       "      <th>Database administrator</th>\n",
       "      <td>5.0</td>\n",
       "      <td>30</td>\n",
       "    </tr>\n",
       "    <tr>\n",
       "      <th>Desktop applications developer</th>\n",
       "      <td>63.0</td>\n",
       "      <td>879</td>\n",
       "    </tr>\n",
       "    <tr>\n",
       "      <th>DevOps specialist</th>\n",
       "      <td>5.0</td>\n",
       "      <td>104</td>\n",
       "    </tr>\n",
       "    <tr>\n",
       "      <th>Developer with a statistics or mathematics background</th>\n",
       "      <td>28.0</td>\n",
       "      <td>257</td>\n",
       "    </tr>\n",
       "    <tr>\n",
       "      <th>Embedded applications/devices developer</th>\n",
       "      <td>20.0</td>\n",
       "      <td>387</td>\n",
       "    </tr>\n",
       "    <tr>\n",
       "      <th>Graphic designer</th>\n",
       "      <td>NaN</td>\n",
       "      <td>1</td>\n",
       "    </tr>\n",
       "    <tr>\n",
       "      <th>Machine learning specialist</th>\n",
       "      <td>NaN</td>\n",
       "      <td>21</td>\n",
       "    </tr>\n",
       "    <tr>\n",
       "      <th>Mobile developer</th>\n",
       "      <td>89.0</td>\n",
       "      <td>803</td>\n",
       "    </tr>\n",
       "    <tr>\n",
       "      <th>Quality assurance engineer</th>\n",
       "      <td>9.0</td>\n",
       "      <td>41</td>\n",
       "    </tr>\n",
       "    <tr>\n",
       "      <th>Systems administrator</th>\n",
       "      <td>1.0</td>\n",
       "      <td>10</td>\n",
       "    </tr>\n",
       "    <tr>\n",
       "      <th>Web developer</th>\n",
       "      <td>615.0</td>\n",
       "      <td>6060</td>\n",
       "    </tr>\n",
       "  </tbody>\n",
       "</table>\n",
       "</div>"
      ],
      "text/plain": [
       "                                                    Female  Male\n",
       "Data scientist                                        14.0   104\n",
       "Database administrator                                 5.0    30\n",
       "Desktop applications developer                        63.0   879\n",
       "DevOps specialist                                      5.0   104\n",
       "Developer with a statistics or mathematics back...    28.0   257\n",
       "Embedded applications/devices developer               20.0   387\n",
       "Graphic designer                                       NaN     1\n",
       "Machine learning specialist                            NaN    21\n",
       "Mobile developer                                      89.0   803\n",
       "Quality assurance engineer                             9.0    41\n",
       "Systems administrator                                  1.0    10\n",
       "Web developer                                        615.0  6060"
      ]
     },
     "execution_count": 32,
     "metadata": {},
     "output_type": "execute_result"
    }
   ],
   "source": [
    "#Create dataframes that contain male and female seperately\n",
    "df_m = df_gender.loc[df_gender['Gender'] == 'Male']\n",
    "df_f = df_gender.loc[df_gender['Gender'] == 'Female']\n",
    "\n",
    "#Select “Developer type” columns from different dataframes and create a new dataframe\n",
    "df_dev_f = df_f['DeveloperType'].value_counts().to_frame()\n",
    "df_dev_m = df_m['DeveloperType'].value_counts().to_frame()\n",
    "df_gender_dev = pd.DataFrame({'Male': df_dev_m['DeveloperType'], 'Female': df_dev_f['DeveloperType']})\n",
    "df_gender_dev"
   ]
  },
  {
   "cell_type": "code",
   "execution_count": 33,
   "metadata": {},
   "outputs": [
    {
     "data": {
      "image/png": "[encoded data removed]",
      "text/plain": [
       "<matplotlib.figure.Figure at 0x7f0255ea2860>"
      ]
     },
     "metadata": {},
     "output_type": "display_data"
    }
   ],
   "source": [
    "# Plot figure and add index as label\n",
    "df_figure = pd.DataFrame(df_gender_dev,\n",
    "                 index=['Data scientist','Database administrator', 'Desktop applications developer','DevOps specialist', 'Developer with a statistics or mathematics background',\n",
    "                       'Embedded applications/devices developer', 'Graphic designer', 'Machine learning specialist', 'Mobile developer',\n",
    "                       'Quality assurance engineer', 'Systems administrator', 'Web developer'],\n",
    "                 columns=pd.Index(['Female', 'Male'], \n",
    "                 name='Sex')).round(2)\n",
    "\n",
    "\n",
    "df_figure.plot(kind='bar',figsize=(12,8))\n",
    "\n",
    "ax = plt.gca()\n",
    "pos = []\n",
    "for bar in ax.patches:\n",
    "    pos.append(bar.get_x()+bar.get_width()/2.)\n",
    "\n",
    "\n",
    "ax.set_xticks(pos,minor=True)\n",
    "lab = []\n",
    "for i in range(len(pos)):\n",
    "    l = df.columns.values[i//len(df.index.values)]\n",
    "    lab.append(l)\n",
    "\n",
    "plt.setp(ax.get_xticklabels(), rotation=30)\n",
    "plt.title('Developer Roles by Sex', fontsize=20)\n",
    "\n",
    "plt.show()"
   ]
  },
  {
   "cell_type": "markdown",
   "metadata": {},
   "source": [
    "From the figure and table above, among all developer roles, most respndents on StackOverflow are web developers. It has 6061 male developers and 615 female developers. The amount of web developers is far more than other developer roles, since web developers include backend developer, frontend developer and full stack developers. desktop developer and mobile developer are also included in top 3 developer roles. The Distribution of different developer roles among men and women is very simialr. However, female developers with a statistics or mathematics background and data scientist are proportionally higher than male. "
   ]
  },
  {
   "cell_type": "markdown",
   "metadata": {},
   "source": [
    "## What is the difference of developers' activities on StackOverflow between men and women?\n"
   ]
  },
  {
   "cell_type": "code",
   "execution_count": 59,
   "metadata": {},
   "outputs": [
    {
     "data": {
      "text/html": [
       "<div>\n",
       "<table border=\"1\" class=\"dataframe\">\n",
       "  <thead>\n",
       "    <tr style=\"text-align: right;\">\n",
       "      <th></th>\n",
       "      <th>Gender</th>\n",
       "      <th>StackOverflowFoundAnswer</th>\n",
       "      <th>StackOverflowCopiedCode</th>\n",
       "      <th>StackOverflowJobListing</th>\n",
       "      <th>StackOverflowCompanyPage</th>\n",
       "      <th>StackOverflowJobSearch</th>\n",
       "      <th>StackOverflowNewQuestion</th>\n",
       "      <th>StackOverflowAnswer</th>\n",
       "      <th>StackOverflowMetaChat</th>\n",
       "    </tr>\n",
       "  </thead>\n",
       "  <tbody>\n",
       "    <tr>\n",
       "      <th>7</th>\n",
       "      <td>Male</td>\n",
       "      <td>Once or twice</td>\n",
       "      <td>Once or twice</td>\n",
       "      <td>Haven't done at all</td>\n",
       "      <td>Haven't done at all</td>\n",
       "      <td>Haven't done at all</td>\n",
       "      <td>Haven't done at all</td>\n",
       "      <td>Several times</td>\n",
       "      <td>Haven't done at all</td>\n",
       "    </tr>\n",
       "    <tr>\n",
       "      <th>13</th>\n",
       "      <td>Female</td>\n",
       "      <td>Several times</td>\n",
       "      <td>Several times</td>\n",
       "      <td>Haven't done at all</td>\n",
       "      <td>Haven't done at all</td>\n",
       "      <td>Haven't done at all</td>\n",
       "      <td>Haven't done at all</td>\n",
       "      <td>Several times</td>\n",
       "      <td>Haven't done at all</td>\n",
       "    </tr>\n",
       "    <tr>\n",
       "      <th>14</th>\n",
       "      <td>Male</td>\n",
       "      <td>Several times</td>\n",
       "      <td>Once or twice</td>\n",
       "      <td>Several times</td>\n",
       "      <td>Several times</td>\n",
       "      <td>Several times</td>\n",
       "      <td>Once or twice</td>\n",
       "      <td>At least once each day</td>\n",
       "      <td>Several times</td>\n",
       "    </tr>\n",
       "    <tr>\n",
       "      <th>15</th>\n",
       "      <td>Male</td>\n",
       "      <td>At least once each week</td>\n",
       "      <td>Haven't done at all</td>\n",
       "      <td>Haven't done at all</td>\n",
       "      <td>Haven't done at all</td>\n",
       "      <td>Haven't done at all</td>\n",
       "      <td>Haven't done at all</td>\n",
       "      <td>Once or twice</td>\n",
       "      <td>Once or twice</td>\n",
       "    </tr>\n",
       "    <tr>\n",
       "      <th>16</th>\n",
       "      <td>Male</td>\n",
       "      <td>Several times</td>\n",
       "      <td>Haven't done at all</td>\n",
       "      <td>Once or twice</td>\n",
       "      <td>Haven't done at all</td>\n",
       "      <td>Haven't done at all</td>\n",
       "      <td>Once or twice</td>\n",
       "      <td>Haven't done at all</td>\n",
       "      <td>Haven't done at all</td>\n",
       "    </tr>\n",
       "  </tbody>\n",
       "</table>\n",
       "</div>"
      ],
      "text/plain": [
       "    Gender StackOverflowFoundAnswer StackOverflowCopiedCode  \\\n",
       "7     Male            Once or twice           Once or twice   \n",
       "13  Female            Several times           Several times   \n",
       "14    Male            Several times           Once or twice   \n",
       "15    Male  At least once each week     Haven't done at all   \n",
       "16    Male            Several times     Haven't done at all   \n",
       "\n",
       "   StackOverflowJobListing StackOverflowCompanyPage StackOverflowJobSearch  \\\n",
       "7      Haven't done at all      Haven't done at all    Haven't done at all   \n",
       "13     Haven't done at all      Haven't done at all    Haven't done at all   \n",
       "14           Several times            Several times          Several times   \n",
       "15     Haven't done at all      Haven't done at all    Haven't done at all   \n",
       "16           Once or twice      Haven't done at all    Haven't done at all   \n",
       "\n",
       "   StackOverflowNewQuestion     StackOverflowAnswer StackOverflowMetaChat  \n",
       "7       Haven't done at all           Several times   Haven't done at all  \n",
       "13      Haven't done at all           Several times   Haven't done at all  \n",
       "14            Once or twice  At least once each day         Several times  \n",
       "15      Haven't done at all           Once or twice         Once or twice  \n",
       "16            Once or twice     Haven't done at all   Haven't done at all  "
      ]
     },
     "execution_count": 59,
     "metadata": {},
     "output_type": "execute_result"
    }
   ],
   "source": [
    "# Select columns relate to users' activities\n",
    "df1 = df_gender[['Gender', 'StackOverflowFoundAnswer', 'StackOverflowCopiedCode', 'StackOverflowJobListing', \n",
    "                 'StackOverflowCompanyPage', 'StackOverflowJobSearch', 'StackOverflowNewQuestion',\n",
    "                'StackOverflowAnswer', 'StackOverflowMetaChat']]\n",
    "df1.head()"
   ]
  },
  {
   "cell_type": "code",
   "execution_count": 62,
   "metadata": {},
   "outputs": [
    {
     "data": {
      "text/html": [
       "<div>\n",
       "<table border=\"1\" class=\"dataframe\">\n",
       "  <thead>\n",
       "    <tr style=\"text-align: right;\">\n",
       "      <th></th>\n",
       "      <th>Female</th>\n",
       "      <th>Male</th>\n",
       "    </tr>\n",
       "  </thead>\n",
       "  <tbody>\n",
       "    <tr>\n",
       "      <th>At least once each week</th>\n",
       "      <td>336</td>\n",
       "      <td>3327</td>\n",
       "    </tr>\n",
       "    <tr>\n",
       "      <th>Several times</th>\n",
       "      <td>280</td>\n",
       "      <td>3033</td>\n",
       "    </tr>\n",
       "    <tr>\n",
       "      <th>At least once each day</th>\n",
       "      <td>142</td>\n",
       "      <td>1351</td>\n",
       "    </tr>\n",
       "    <tr>\n",
       "      <th>Once or twice</th>\n",
       "      <td>53</td>\n",
       "      <td>598</td>\n",
       "    </tr>\n",
       "    <tr>\n",
       "      <th>Haven't done at all</th>\n",
       "      <td>6</td>\n",
       "      <td>104</td>\n",
       "    </tr>\n",
       "  </tbody>\n",
       "</table>\n",
       "</div>"
      ],
      "text/plain": [
       "                         Female  Male\n",
       "At least once each week     336  3327\n",
       "Several times               280  3033\n",
       "At least once each day      142  1351\n",
       "Once or twice                53   598\n",
       "Haven't done at all           6   104"
      ]
     },
     "execution_count": 62,
     "metadata": {},
     "output_type": "execute_result"
    }
   ],
   "source": [
    "# Create new datafram to plot \"How Often People Find answer of Their Coding Problem?\"\n",
    "df_male = df1.loc[df1['Gender'] == 'Male']\n",
    "df_female = df1.loc[df1['Gender'] == 'Female']\n",
    "df_answer_fm = df_female['StackOverflowFoundAnswer'].value_counts().to_frame()\n",
    "df_answer_m = df_male['StackOverflowFoundAnswer'].value_counts().to_frame()\n",
    "df_index1 = pd.DataFrame({'Male': df_answer_m['StackOverflowFoundAnswer'], 'Female': df_answer_fm['StackOverflowFoundAnswer']})\n",
    "df_index1"
   ]
  },
  {
   "cell_type": "code",
   "execution_count": 71,
   "metadata": {},
   "outputs": [
    {
     "data": {
      "image/png": "[encoded data removed]",
      "text/plain": [
       "<matplotlib.figure.Figure at 0x7ff38cae2748>"
      ]
     },
     "metadata": {},
     "output_type": "display_data"
    }
   ],
   "source": [
    "df_figure = pd.DataFrame(df_index1,\n",
    "                 index=['At least once each week','Several times', 'At least once each day',\n",
    "                                                'Once or twice', 'Havent done at all'],\n",
    "                 columns=pd.Index(['Female', 'Male'], \n",
    "                 name='Sex')).round(2)\n",
    "\n",
    "\n",
    "df_figure.plot(kind='bar',figsize=(12,8))\n",
    "\n",
    "ax = plt.gca()\n",
    "pos = []\n",
    "for bar in ax.patches:\n",
    "    pos.append(bar.get_x()+bar.get_width()/2.)\n",
    "\n",
    "\n",
    "ax.set_xticks(pos,minor=True)\n",
    "lab = []\n",
    "for i in range(len(pos)):\n",
    "    l = df.columns.values[i//len(df.index.values)]\n",
    "    lab.append(l)\n",
    "\n",
    "plt.setp(ax.get_xticklabels(), rotation=0)\n",
    "plt.title('How Often People Find answer of Their Coding Problem?', fontsize=20)\n",
    "\n",
    "plt.show()"
   ]
  },
  {
   "cell_type": "code",
   "execution_count": 63,
   "metadata": {},
   "outputs": [
    {
     "data": {
      "text/html": [
       "<div>\n",
       "<table border=\"1\" class=\"dataframe\">\n",
       "  <thead>\n",
       "    <tr style=\"text-align: right;\">\n",
       "      <th></th>\n",
       "      <th>Female</th>\n",
       "      <th>Male</th>\n",
       "    </tr>\n",
       "  </thead>\n",
       "  <tbody>\n",
       "    <tr>\n",
       "      <th>At least once each day</th>\n",
       "      <td>22</td>\n",
       "      <td>242</td>\n",
       "    </tr>\n",
       "    <tr>\n",
       "      <th>At least once each week</th>\n",
       "      <td>110</td>\n",
       "      <td>936</td>\n",
       "    </tr>\n",
       "    <tr>\n",
       "      <th>Haven't done at all</th>\n",
       "      <td>166</td>\n",
       "      <td>2048</td>\n",
       "    </tr>\n",
       "    <tr>\n",
       "      <th>Once or twice</th>\n",
       "      <td>249</td>\n",
       "      <td>2570</td>\n",
       "    </tr>\n",
       "    <tr>\n",
       "      <th>Several times</th>\n",
       "      <td>253</td>\n",
       "      <td>2526</td>\n",
       "    </tr>\n",
       "  </tbody>\n",
       "</table>\n",
       "</div>"
      ],
      "text/plain": [
       "                         Female  Male\n",
       "At least once each day       22   242\n",
       "At least once each week     110   936\n",
       "Haven't done at all         166  2048\n",
       "Once or twice               249  2570\n",
       "Several times               253  2526"
      ]
     },
     "execution_count": 63,
     "metadata": {},
     "output_type": "execute_result"
    }
   ],
   "source": [
    "# Create new datafram to plot \"How Often People Copied a code example and pasted it into their codebase?\"\n",
    "df_copy_fm = df_female['StackOverflowCopiedCode'].value_counts().to_frame()\n",
    "df_copy_m = df_male['StackOverflowCopiedCode'].value_counts().to_frame()\n",
    "df_index2 = pd.DataFrame({'Male': df_copy_m['StackOverflowCopiedCode'], 'Female': df_copy_fm['StackOverflowCopiedCode']})\n",
    "df_index2"
   ]
  },
  {
   "cell_type": "code",
   "execution_count": 64,
   "metadata": {},
   "outputs": [
    {
     "data": {
      "image/png": "[encoded data removed]",
      "text/plain": [
       "<matplotlib.figure.Figure at 0x7f0255e5c0f0>"
      ]
     },
     "metadata": {},
     "output_type": "display_data"
    }
   ],
   "source": [
    "df_figure = pd.DataFrame(df_index2,\n",
    "                 index=['At least once each week','Several times', 'At least once each day',\n",
    "                                                'Once or twice', 'Havent done at all'],\n",
    "                 columns=pd.Index(['Female', 'Male'], \n",
    "                 name='Sex')).round(2)\n",
    "\n",
    "\n",
    "df_figure.plot(kind='bar',figsize=(12,8))\n",
    "\n",
    "ax = plt.gca()\n",
    "pos = []\n",
    "for bar in ax.patches:\n",
    "    pos.append(bar.get_x()+bar.get_width()/2.)\n",
    "\n",
    "\n",
    "ax.set_xticks(pos,minor=True)\n",
    "lab = []\n",
    "for i in range(len(pos)):\n",
    "    l = df.columns.values[i//len(df.index.values)]\n",
    "    lab.append(l)\n",
    "\n",
    "plt.setp(ax.get_xticklabels(), rotation=0)\n",
    "plt.title('How Often People Copied a code example and pasted it into their codebase?', fontsize=20)\n",
    "\n",
    "plt.show()"
   ]
  },
  {
   "cell_type": "code",
   "execution_count": 74,
   "metadata": {},
   "outputs": [
    {
     "data": {
      "text/html": [
       "<div>\n",
       "<table border=\"1\" class=\"dataframe\">\n",
       "  <thead>\n",
       "    <tr style=\"text-align: right;\">\n",
       "      <th></th>\n",
       "      <th>Female</th>\n",
       "      <th>Male</th>\n",
       "    </tr>\n",
       "  </thead>\n",
       "  <tbody>\n",
       "    <tr>\n",
       "      <th>Haven't done at all</th>\n",
       "      <td>1522</td>\n",
       "      <td>16654</td>\n",
       "    </tr>\n",
       "    <tr>\n",
       "      <th>Once or twice</th>\n",
       "      <td>391</td>\n",
       "      <td>6812</td>\n",
       "    </tr>\n",
       "    <tr>\n",
       "      <th>Several times</th>\n",
       "      <td>160</td>\n",
       "      <td>3017</td>\n",
       "    </tr>\n",
       "    <tr>\n",
       "      <th>At least once each week</th>\n",
       "      <td>26</td>\n",
       "      <td>319</td>\n",
       "    </tr>\n",
       "    <tr>\n",
       "      <th>At least once each day</th>\n",
       "      <td>5</td>\n",
       "      <td>92</td>\n",
       "    </tr>\n",
       "  </tbody>\n",
       "</table>\n",
       "</div>"
      ],
      "text/plain": [
       "                         Female   Male\n",
       "Haven't done at all        1522  16654\n",
       "Once or twice               391   6812\n",
       "Several times               160   3017\n",
       "At least once each week      26    319\n",
       "At least once each day        5     92"
      ]
     },
     "execution_count": 74,
     "metadata": {},
     "output_type": "execute_result"
    }
   ],
   "source": [
    "# Create new datafram to plot \"How Often People Asked a New Question?\"\n",
    "df_question_fm = df_female['StackOverflowNewQuestion'].value_counts().to_frame()\n",
    "df_question_m = df_male['StackOverflowNewQuestion'].value_counts().to_frame()\n",
    "df_index3 = pd.DataFrame({'Male': df_question_m['StackOverflowNewQuestion'], 'Female': df_question_fm['StackOverflowNewQuestion']})\n",
    "df_index3\n"
   ]
  },
  {
   "cell_type": "code",
   "execution_count": 75,
   "metadata": {},
   "outputs": [
    {
     "data": {
      "image/png": "[encoded data removed]",
      "text/plain": [
       "<matplotlib.figure.Figure at 0x7ff389aaad68>"
      ]
     },
     "metadata": {},
     "output_type": "display_data"
    }
   ],
   "source": [
    "df_figure = pd.DataFrame(df_index3,\n",
    "                 index=['At least once each week','Several times', 'At least once each day',\n",
    "                                                'Once or twice', 'Havent done at all'],\n",
    "                 columns=pd.Index(['Female', 'Male'], \n",
    "                 name='Sex')).round(2)\n",
    "\n",
    "\n",
    "df_figure.plot(kind='bar',figsize=(12,8))\n",
    "\n",
    "ax = plt.gca()\n",
    "pos = []\n",
    "for bar in ax.patches:\n",
    "    pos.append(bar.get_x()+bar.get_width()/2.)\n",
    "\n",
    "\n",
    "ax.set_xticks(pos,minor=True)\n",
    "lab = []\n",
    "for i in range(len(pos)):\n",
    "    l = df.columns.values[i//len(df.index.values)]\n",
    "    lab.append(l)\n",
    "\n",
    "plt.setp(ax.get_xticklabels(), rotation=0)\n",
    "plt.title('How Often People Asked a New Question?', fontsize=20)\n",
    "\n",
    "plt.show()"
   ]
  },
  {
   "cell_type": "code",
   "execution_count": 65,
   "metadata": {},
   "outputs": [
    {
     "data": {
      "text/html": [
       "<div>\n",
       "<table border=\"1\" class=\"dataframe\">\n",
       "  <thead>\n",
       "    <tr style=\"text-align: right;\">\n",
       "      <th></th>\n",
       "      <th>Female</th>\n",
       "      <th>Male</th>\n",
       "    </tr>\n",
       "  </thead>\n",
       "  <tbody>\n",
       "    <tr>\n",
       "      <th>Haven't done at all</th>\n",
       "      <td>588</td>\n",
       "      <td>4759</td>\n",
       "    </tr>\n",
       "    <tr>\n",
       "      <th>Once or twice</th>\n",
       "      <td>123</td>\n",
       "      <td>1912</td>\n",
       "    </tr>\n",
       "    <tr>\n",
       "      <th>Several times</th>\n",
       "      <td>62</td>\n",
       "      <td>1145</td>\n",
       "    </tr>\n",
       "    <tr>\n",
       "      <th>At least once each week</th>\n",
       "      <td>14</td>\n",
       "      <td>329</td>\n",
       "    </tr>\n",
       "    <tr>\n",
       "      <th>At least once each day</th>\n",
       "      <td>4</td>\n",
       "      <td>92</td>\n",
       "    </tr>\n",
       "  </tbody>\n",
       "</table>\n",
       "</div>"
      ],
      "text/plain": [
       "                         Female  Male\n",
       "Haven't done at all         588  4759\n",
       "Once or twice               123  1912\n",
       "Several times                62  1145\n",
       "At least once each week      14   329\n",
       "At least once each day        4    92"
      ]
     },
     "execution_count": 65,
     "metadata": {},
     "output_type": "execute_result"
    }
   ],
   "source": [
    "# Create a new dataframe to plot \"How Often People Wrote a New Answer to Someone Else Question?\"\n",
    "df_answer_fm = df_female['StackOverflowAnswer'].value_counts().to_frame()\n",
    "df_answer_m = df_male['StackOverflowAnswer'].value_counts().to_frame()\n",
    "df_index4 = pd.DataFrame({'Male': df_answer_m['StackOverflowAnswer'], 'Female': df_answer_fm['StackOverflowAnswer']})\n",
    "df_index4"
   ]
  },
  {
   "cell_type": "code",
   "execution_count": 66,
   "metadata": {},
   "outputs": [
    {
     "data": {
      "image/png": "[encoded data removed]",
      "text/plain": [
       "<matplotlib.figure.Figure at 0x7f0255ec1e80>"
      ]
     },
     "metadata": {},
     "output_type": "display_data"
    }
   ],
   "source": [
    "df_figure = pd.DataFrame(df_index4,\n",
    "                 index=['At least once each week','Several times', 'At least once each day',\n",
    "                                                'Once or twice', 'Havent done at all'],\n",
    "                 columns=pd.Index(['Female', 'Male'], \n",
    "                 name='Sex')).round(2)\n",
    "\n",
    "\n",
    "df_figure.plot(kind='bar',figsize=(12,8))\n",
    "\n",
    "ax = plt.gca()\n",
    "pos = []\n",
    "for bar in ax.patches:\n",
    "    pos.append(bar.get_x()+bar.get_width()/2.)\n",
    "\n",
    "\n",
    "ax.set_xticks(pos,minor=True)\n",
    "lab = []\n",
    "for i in range(len(pos)):\n",
    "    l = df.columns.values[i//len(df.index.values)]\n",
    "    lab.append(l)\n",
    "\n",
    "plt.setp(ax.get_xticklabels(), rotation=0)\n",
    "plt.title('How Often People Wrote a New Answer to Someone Else Question?', fontsize=20)\n",
    "\n",
    "plt.show()"
   ]
  },
  {
   "cell_type": "markdown",
   "metadata": {},
   "source": [
    "## Findings\n"
   ]
  },
  {
   "attachments": {},
   "cell_type": "markdown",
   "metadata": {},
   "source": [
    "After analyzing the survey data, male represents the vast majority of contributors on Stack Overflow. The percentage of female on Stack Overflow is 7.51%, but 26% of professional computing occupations in the 2016 U.S. workforce held by women according to NCWIT (National Center for Woman & Information Technology). The percentage of  Asian female on Stack Overflow is 1.28%, but 5% Asian female of professional computing occupations by NCWIT. The percentage of African-American female on Stack Overflow is 1.69%, but 3% by NCWIT. While the sample as a whole skewed heavily male, women were proportionally more represented among mobile and web developers, developers with mathematics and statistics background and data scientist.\n",
    "\n",
    "Moreover, Users on Stack Overflow frequently searching for an answer of coding problem rather than posting a new question. Woman were proportionally more preferable to copy a code example into their codebases. Woman were proportionally more likely to ask new questions. Man were more likely to answer a new question.\n"
   ]
  },
  {
   "cell_type": "markdown",
   "metadata": {},
   "source": [
    "## Limitation"
   ]
  },
  {
   "cell_type": "markdown",
   "metadata": {},
   "source": [
    "Many unregistered users search for answers on Stack Overflow without identifying themselves. \n",
    "\n",
    "The data is self-reported. We assume that all respondents are honest. \n",
    "\n",
    "A bunch of developers from non-English speaking countries do not use Stack Overflow due to language. It may influence the accracy of developers' race."
   ]
  },
  {
   "cell_type": "markdown",
   "metadata": {},
   "source": [
    "## Conclusion"
   ]
  },
  {
   "cell_type": "markdown",
   "metadata": {},
   "source": [
    "Male represent the vast majority of contributors to Stack Overflow. Also, Male participate more to search answers, answer questions, and engage in the community more than female do.\n",
    "\n",
    "The representation of gender and ethnicity in Stack Overflow Developer Survey 2017 exists bias, which cannot represent the current state of developers."
   ]
  },
  {
   "attachments": {},
   "cell_type": "markdown",
   "metadata": {},
   "source": [
    "## References"
   ]
  },
  {
   "cell_type": "markdown",
   "metadata": {},
   "source": [
    "Roose, Kevin. “Survey Says: 92 Percent of Software Developers Are Men.” Splinter, Splinternews.com, 8 Apr. 2015, splinternews.com/survey-says-92-percent-of-software-developers-are-men-1793846921.\n",
    "\n",
    "“Google's Gender Problem Is Actually a Tech Problem.” Fortune, fortune.com/2017/08/08/google-gender-struggle-tech/.\n",
    "\n",
    "Vasilescu, Bogdan, et al. “Gender, Representation and Online Participation: A Quantitative Study of StackOverflow.” 2012 International Conference on Social Informatics, 2012, doi:10.1109/socialinformatics.2012.81."
   ]
  }
 ],
 "metadata": {
  "kernelspec": {
   "display_name": "Python 3",
   "language": "python",
   "name": "python3"
  },
  "language_info": {
   "codemirror_mode": {
    "name": "ipython",
    "version": 3
   },
   "file_extension": ".py",
   "mimetype": "text/x-python",
   "name": "python",
   "nbconvert_exporter": "python",
   "pygments_lexer": "ipython3",
   "version": "3.6.2"
  }
 },
 "nbformat": 4,
 "nbformat_minor": 2
}
